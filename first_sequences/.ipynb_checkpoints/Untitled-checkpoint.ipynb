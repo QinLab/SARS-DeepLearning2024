{
 "cells": [
  {
   "cell_type": "code",
   "execution_count": 1,
   "metadata": {},
   "outputs": [],
   "source": [
    "import os\n",
    "import sys\n",
    "sys.path.insert(0, os.path.expanduser('~'))"
   ]
  },
  {
   "cell_type": "code",
   "execution_count": 2,
   "metadata": {},
   "outputs": [
    {
     "name": "stderr",
     "output_type": "stream",
     "text": [
      "/home/phatami/.conda/envs/myenv/lib/python3.7/site-packages/ipykernel_launcher.py:10: TqdmExperimentalWarning: Using `tqdm.autonotebook.tqdm` in notebook mode. Use `tqdm.tqdm` instead to force console mode (e.g. in jupyter console)\n",
      "  # Remove the CWD from sys.path while we load stuff.\n"
     ]
    }
   ],
   "source": [
    "from Bio import SeqIO\n",
    "import glob\n",
    "import sars.constants as CONST\n",
    "import datetime\n",
    "import pandas as pd\n",
    "import multiprocessing as mp\n",
    "from multiprocessing import current_process, Value\n",
    "import os\n",
    "import sys\n",
    "from tqdm.autonotebook import tqdm\n",
    "import time\n",
    "from timebudget import timebudget\n",
    "\n",
    "\n",
    "sys.path.insert(0, os.path.expanduser('~'))\n",
    "os.path.expanduser('~')\n",
    "\n",
    "def save_seq(sequence, filename):\n",
    "    with open(filename, \"w\") as handle:\n",
    "          write_seq = SeqIO.write(sequence, handle, \"fasta\")\n",
    "\n",
    "            \n",
    "def read_seq(file_path):\n",
    "    worker_name = current_process().name \n",
    "    \n",
    "    sequences = SeqIO.parse(file_path, \"fasta\")\n",
    "\n",
    "    for sequence in tqdm(sequences, desc='Processing sequences'):    \n",
    "        id_seq = sequence.id.split('|')\n",
    "\n",
    "        if id_seq[0]=='EPI_ISL_601443':\n",
    "            filename = \"./first_seq/alpha.fasta\"\n",
    "            save_seq(sequence, filename)\n",
    "#             local_found_sequences.add(id_seq[0])\n",
    "            print(f\"{id_seq[0]} is found\")\n",
    "\n",
    "        if id_seq[0]=='EPI_ISL_712073':            \n",
    "            filename = \"./first_seq/beta.fasta\"\n",
    "            save_seq(sequence, filename)\n",
    "#             local_found_sequences.add(id_seq[0])\n",
    "            print(f\"{id_seq[0]} is found\")\n",
    "\n",
    "        if id_seq[0]=='EPI_ISL_2095177':\n",
    "            filename = \"./first_seq/gamma.fasta\"\n",
    "            save_seq(sequence, filename)\n",
    "#             local_found_sequences.add(id_seq[0])\n",
    "            print(f\"{id_seq[0]} is found\")\n",
    "\n",
    "        if id_seq[0]=='EPI_ISL_3148365':\n",
    "            filename = \"./first_seq/delta.fasta\"\n",
    "            save_seq(sequence, filename)\n",
    "#             local_found_sequences.add(id_seq[0])\n",
    "            print(f\"{id_seq[0]} is found\")\n",
    "\n",
    "        if id_seq[0]=='EPI_ISL_6640916':\n",
    "            filename = \"./first_seq/omicron.fasta\"\n",
    "            save_seq(sequence, filename)\n",
    "#             local_found_sequences.add(id_seq[0])\n",
    "            print(f\"{id_seq[0]} is found\")\n",
    "        \n",
    "    return local_found_sequences\n"
   ]
  },
  {
   "cell_type": "code",
   "execution_count": 3,
   "metadata": {},
   "outputs": [
    {
     "name": "stdout",
     "output_type": "stream",
     "text": [
      "EPI_ISL_2095177 is found\n"
     ]
    },
    {
     "data": {
      "application/vnd.jupyter.widget-view+json": {
       "model_id": "26c0cbc07a3a46ac8b2219d210d02797",
       "version_major": 2,
       "version_minor": 0
      },
      "text/plain": [
       "Processing sequences: 0it [00:00, ?it/s]"
      ]
     },
     "metadata": {},
     "output_type": "display_data"
    },
    {
     "name": "stdout",
     "output_type": "stream",
     "text": [
      "EPI_ISL_6640916 is found\n"
     ]
    },
    {
     "data": {
      "application/vnd.jupyter.widget-view+json": {
       "model_id": "579af4d15d8a45aeae3aef9965279fa3",
       "version_major": 2,
       "version_minor": 0
      },
      "text/plain": [
       "Processing sequences: 0it [00:00, ?it/s]"
      ]
     },
     "metadata": {},
     "output_type": "display_data"
    },
    {
     "data": {
      "application/vnd.jupyter.widget-view+json": {
       "model_id": "feda1a43971a4429b46988f13a3921dd",
       "version_major": 2,
       "version_minor": 0
      },
      "text/plain": [
       "Processing sequences: 0it [00:00, ?it/s]"
      ]
     },
     "metadata": {},
     "output_type": "display_data"
    },
    {
     "name": "stdout",
     "output_type": "stream",
     "text": [
      "EPI_ISL_601443 is found\n",
      "EPI_ISL_712073 is found\n"
     ]
    },
    {
     "data": {
      "application/vnd.jupyter.widget-view+json": {
       "model_id": "57f001b2390e4ff298f940aeae39b1d5",
       "version_major": 2,
       "version_minor": 0
      },
      "text/plain": [
       "Processing sequences: 0it [00:00, ?it/s]"
      ]
     },
     "metadata": {},
     "output_type": "display_data"
    },
    {
     "data": {
      "application/vnd.jupyter.widget-view+json": {
       "model_id": "18995fdffdf14e81bd1db80aa7bca9da",
       "version_major": 2,
       "version_minor": 0
      },
      "text/plain": [
       "Processing sequences: 0it [00:00, ?it/s]"
      ]
     },
     "metadata": {},
     "output_type": "display_data"
    },
    {
     "data": {
      "application/vnd.jupyter.widget-view+json": {
       "model_id": "7acdcf39cdbf4eacb0c9541fe020b77d",
       "version_major": 2,
       "version_minor": 0
      },
      "text/plain": [
       "Processing sequences: 0it [00:00, ?it/s]"
      ]
     },
     "metadata": {},
     "output_type": "display_data"
    },
    {
     "data": {
      "application/vnd.jupyter.widget-view+json": {
       "model_id": "dcb19932de29499a982f79af1e4f2c8b",
       "version_major": 2,
       "version_minor": 0
      },
      "text/plain": [
       "Processing sequences: 0it [00:00, ?it/s]"
      ]
     },
     "metadata": {},
     "output_type": "display_data"
    },
    {
     "data": {
      "application/vnd.jupyter.widget-view+json": {
       "model_id": "c776e2ccf1464722b8025593f894ef21",
       "version_major": 2,
       "version_minor": 0
      },
      "text/plain": [
       "Processing sequences: 0it [00:00, ?it/s]"
      ]
     },
     "metadata": {},
     "output_type": "display_data"
    },
    {
     "data": {
      "application/vnd.jupyter.widget-view+json": {
       "model_id": "9357ab8d7d5b4c77a3641c059ba606a4",
       "version_major": 2,
       "version_minor": 0
      },
      "text/plain": [
       "Processing sequences: 0it [00:00, ?it/s]"
      ]
     },
     "metadata": {},
     "output_type": "display_data"
    },
    {
     "data": {
      "application/vnd.jupyter.widget-view+json": {
       "model_id": "117b04cc7aff4ac09a02f4c192eb1dce",
       "version_major": 2,
       "version_minor": 0
      },
      "text/plain": [
       "Processing sequences: 0it [00:00, ?it/s]"
      ]
     },
     "metadata": {},
     "output_type": "display_data"
    },
    {
     "data": {
      "application/vnd.jupyter.widget-view+json": {
       "model_id": "68dd39ba8585429fa413519949cac3f2",
       "version_major": 2,
       "version_minor": 0
      },
      "text/plain": [
       "Processing sequences: 0it [00:00, ?it/s]"
      ]
     },
     "metadata": {},
     "output_type": "display_data"
    },
    {
     "data": {
      "application/vnd.jupyter.widget-view+json": {
       "model_id": "15c7e70c922c48609c39c2ea4d7a458f",
       "version_major": 2,
       "version_minor": 0
      },
      "text/plain": [
       "Processing sequences: 0it [00:00, ?it/s]"
      ]
     },
     "metadata": {},
     "output_type": "display_data"
    },
    {
     "data": {
      "application/vnd.jupyter.widget-view+json": {
       "model_id": "d13d3db503494a4cb28640c71a7db6c0",
       "version_major": 2,
       "version_minor": 0
      },
      "text/plain": [
       "Processing sequences: 0it [00:00, ?it/s]"
      ]
     },
     "metadata": {},
     "output_type": "display_data"
    },
    {
     "data": {
      "application/vnd.jupyter.widget-view+json": {
       "model_id": "c3e37b4a75d74c9ea8fffc837dd042bd",
       "version_major": 2,
       "version_minor": 0
      },
      "text/plain": [
       "Processing sequences: 0it [00:00, ?it/s]"
      ]
     },
     "metadata": {},
     "output_type": "display_data"
    },
    {
     "name": "stdout",
     "output_type": "stream",
     "text": [
      "EPI_ISL_3148365 is found\n"
     ]
    },
    {
     "data": {
      "application/vnd.jupyter.widget-view+json": {
       "model_id": "817f95d84e234b56ba36de51b8df470f",
       "version_major": 2,
       "version_minor": 0
      },
      "text/plain": [
       "Processing sequences: 0it [00:00, ?it/s]"
      ]
     },
     "metadata": {},
     "output_type": "display_data"
    },
    {
     "data": {
      "application/vnd.jupyter.widget-view+json": {
       "model_id": "7eb51ef0c1744031b9b09fbc6675efa7",
       "version_major": 2,
       "version_minor": 0
      },
      "text/plain": [
       "Processing sequences: 0it [00:00, ?it/s]"
      ]
     },
     "metadata": {},
     "output_type": "display_data"
    },
    {
     "data": {
      "application/vnd.jupyter.widget-view+json": {
       "model_id": "62bfaf5a6ce349fdb0aab5feec5b4432",
       "version_major": 2,
       "version_minor": 0
      },
      "text/plain": [
       "Processing sequences: 0it [00:00, ?it/s]"
      ]
     },
     "metadata": {},
     "output_type": "display_data"
    },
    {
     "data": {
      "application/vnd.jupyter.widget-view+json": {
       "model_id": "93d7d9332098446d97b826e95a40073d",
       "version_major": 2,
       "version_minor": 0
      },
      "text/plain": [
       "Processing sequences: 0it [00:00, ?it/s]"
      ]
     },
     "metadata": {},
     "output_type": "display_data"
    },
    {
     "data": {
      "application/vnd.jupyter.widget-view+json": {
       "model_id": "27d7d8e1ede34cc286bc8d3477ca6494",
       "version_major": 2,
       "version_minor": 0
      },
      "text/plain": [
       "Processing sequences: 0it [00:00, ?it/s]"
      ]
     },
     "metadata": {},
     "output_type": "display_data"
    },
    {
     "data": {
      "application/vnd.jupyter.widget-view+json": {
       "model_id": "0274334b6383469fb4a46b29854fe5c4",
       "version_major": 2,
       "version_minor": 0
      },
      "text/plain": [
       "Processing sequences: 0it [00:00, ?it/s]"
      ]
     },
     "metadata": {},
     "output_type": "display_data"
    },
    {
     "data": {
      "application/vnd.jupyter.widget-view+json": {
       "model_id": "0ace6e16730e46b39a901029dcbc49cc",
       "version_major": 2,
       "version_minor": 0
      },
      "text/plain": [
       "Processing sequences: 0it [00:00, ?it/s]"
      ]
     },
     "metadata": {},
     "output_type": "display_data"
    },
    {
     "data": {
      "application/vnd.jupyter.widget-view+json": {
       "model_id": "dcadbea5806f4722ba40c948ef87f65d",
       "version_major": 2,
       "version_minor": 0
      },
      "text/plain": [
       "Processing sequences: 0it [00:00, ?it/s]"
      ]
     },
     "metadata": {},
     "output_type": "display_data"
    },
    {
     "data": {
      "application/vnd.jupyter.widget-view+json": {
       "model_id": "7fd4c59c208e494c86d98261448eb25e",
       "version_major": 2,
       "version_minor": 0
      },
      "text/plain": [
       "Processing sequences: 0it [00:00, ?it/s]"
      ]
     },
     "metadata": {},
     "output_type": "display_data"
    },
    {
     "data": {
      "application/vnd.jupyter.widget-view+json": {
       "model_id": "eceb89fd4e574f1892eb84dd20ed1de3",
       "version_major": 2,
       "version_minor": 0
      },
      "text/plain": [
       "Processing sequences: 0it [00:00, ?it/s]"
      ]
     },
     "metadata": {},
     "output_type": "display_data"
    },
    {
     "data": {
      "application/vnd.jupyter.widget-view+json": {
       "model_id": "f8ce4cfacd5349d5b1f774288eb24ec1",
       "version_major": 2,
       "version_minor": 0
      },
      "text/plain": [
       "Processing sequences: 0it [00:00, ?it/s]"
      ]
     },
     "metadata": {},
     "output_type": "display_data"
    },
    {
     "data": {
      "application/vnd.jupyter.widget-view+json": {
       "model_id": "ddedcc8b7de342df8d7fb9eca6fca8df",
       "version_major": 2,
       "version_minor": 0
      },
      "text/plain": [
       "Processing sequences: 0it [00:00, ?it/s]"
      ]
     },
     "metadata": {},
     "output_type": "display_data"
    },
    {
     "data": {
      "application/vnd.jupyter.widget-view+json": {
       "model_id": "d623a65fe3d34d2c8c60c23a8ed1df27",
       "version_major": 2,
       "version_minor": 0
      },
      "text/plain": [
       "Processing sequences: 0it [00:00, ?it/s]"
      ]
     },
     "metadata": {},
     "output_type": "display_data"
    },
    {
     "data": {
      "application/vnd.jupyter.widget-view+json": {
       "model_id": "1be9116e8a41495f9925bb57fef02dba",
       "version_major": 2,
       "version_minor": 0
      },
      "text/plain": [
       "Processing sequences: 0it [00:00, ?it/s]"
      ]
     },
     "metadata": {},
     "output_type": "display_data"
    },
    {
     "data": {
      "application/vnd.jupyter.widget-view+json": {
       "model_id": "c3970a850a7c46b6b1d0355dd167aa2e",
       "version_major": 2,
       "version_minor": 0
      },
      "text/plain": [
       "Processing sequences: 0it [00:00, ?it/s]"
      ]
     },
     "metadata": {},
     "output_type": "display_data"
    },
    {
     "data": {
      "application/vnd.jupyter.widget-view+json": {
       "model_id": "4c71c47b2ab94467be002c5f0eba01a4",
       "version_major": 2,
       "version_minor": 0
      },
      "text/plain": [
       "Processing sequences: 0it [00:00, ?it/s]"
      ]
     },
     "metadata": {},
     "output_type": "display_data"
    },
    {
     "data": {
      "application/vnd.jupyter.widget-view+json": {
       "model_id": "5abb0c5a94f943e5bc02f78b89484c31",
       "version_major": 2,
       "version_minor": 0
      },
      "text/plain": [
       "Processing sequences: 0it [00:00, ?it/s]"
      ]
     },
     "metadata": {},
     "output_type": "display_data"
    },
    {
     "data": {
      "application/vnd.jupyter.widget-view+json": {
       "model_id": "965841c964da4e6b832ee4f113be4a12",
       "version_major": 2,
       "version_minor": 0
      },
      "text/plain": [
       "Processing sequences: 0it [00:00, ?it/s]"
      ]
     },
     "metadata": {},
     "output_type": "display_data"
    },
    {
     "data": {
      "application/vnd.jupyter.widget-view+json": {
       "model_id": "cd045e3e27a24ad3ad56f1464221fc50",
       "version_major": 2,
       "version_minor": 0
      },
      "text/plain": [
       "Processing sequences: 0it [00:00, ?it/s]"
      ]
     },
     "metadata": {},
     "output_type": "display_data"
    },
    {
     "data": {
      "application/vnd.jupyter.widget-view+json": {
       "model_id": "7dc106a8b2044e62982bcf24dca64015",
       "version_major": 2,
       "version_minor": 0
      },
      "text/plain": [
       "Processing sequences: 0it [00:00, ?it/s]"
      ]
     },
     "metadata": {},
     "output_type": "display_data"
    },
    {
     "data": {
      "application/vnd.jupyter.widget-view+json": {
       "model_id": "b1c6d6d4beb74a43a8b1c935df62f936",
       "version_major": 2,
       "version_minor": 0
      },
      "text/plain": [
       "Processing sequences: 0it [00:00, ?it/s]"
      ]
     },
     "metadata": {},
     "output_type": "display_data"
    },
    {
     "data": {
      "application/vnd.jupyter.widget-view+json": {
       "model_id": "8182f66f740f4b72a81e44497ba2a1fd",
       "version_major": 2,
       "version_minor": 0
      },
      "text/plain": [
       "Processing sequences: 0it [00:00, ?it/s]"
      ]
     },
     "metadata": {},
     "output_type": "display_data"
    },
    {
     "ename": "TypeError",
     "evalue": "unhashable type: 'list'",
     "output_type": "error",
     "traceback": [
      "\u001b[0;31m---------------------------------------------------------------------------\u001b[0m",
      "\u001b[0;31mTypeError\u001b[0m                                 Traceback (most recent call last)",
      "\u001b[0;32m/tmp/ipykernel_1526722/3160823455.py\u001b[0m in \u001b[0;36m<module>\u001b[0;34m\u001b[0m\n\u001b[1;32m      8\u001b[0m     \u001b[0;32mwith\u001b[0m \u001b[0mmp\u001b[0m\u001b[0;34m.\u001b[0m\u001b[0mPool\u001b[0m\u001b[0;34m(\u001b[0m\u001b[0mprocesses\u001b[0m\u001b[0;34m=\u001b[0m\u001b[0mnum_cores\u001b[0m\u001b[0;34m)\u001b[0m \u001b[0;32mas\u001b[0m \u001b[0mpool\u001b[0m\u001b[0;34m:\u001b[0m\u001b[0;34m\u001b[0m\u001b[0;34m\u001b[0m\u001b[0m\n\u001b[1;32m      9\u001b[0m         \u001b[0mfound_sequence\u001b[0m \u001b[0;34m=\u001b[0m \u001b[0mpool\u001b[0m\u001b[0;34m.\u001b[0m\u001b[0mmap\u001b[0m\u001b[0;34m(\u001b[0m\u001b[0mread_seq\u001b[0m\u001b[0;34m,\u001b[0m \u001b[0mfilenames\u001b[0m\u001b[0;34m)\u001b[0m\u001b[0;34m\u001b[0m\u001b[0;34m\u001b[0m\u001b[0m\n\u001b[0;32m---> 10\u001b[0;31m         \u001b[0mlocal_found_sequences\u001b[0m\u001b[0;34m.\u001b[0m\u001b[0madd\u001b[0m\u001b[0;34m(\u001b[0m\u001b[0mfound_sequence\u001b[0m\u001b[0;34m)\u001b[0m\u001b[0;34m\u001b[0m\u001b[0;34m\u001b[0m\u001b[0m\n\u001b[0m\u001b[1;32m     11\u001b[0m \u001b[0;31m#         combined_found_sequences = set().union(*found_sequence)\u001b[0m\u001b[0;34m\u001b[0m\u001b[0;34m\u001b[0m\u001b[0;34m\u001b[0m\u001b[0m\n\u001b[1;32m     12\u001b[0m         \u001b[0;32mif\u001b[0m \u001b[0mlen\u001b[0m\u001b[0;34m(\u001b[0m\u001b[0mcombined_found_sequences\u001b[0m\u001b[0;34m)\u001b[0m \u001b[0;34m==\u001b[0m \u001b[0;36m5\u001b[0m\u001b[0;34m:\u001b[0m\u001b[0;34m\u001b[0m\u001b[0;34m\u001b[0m\u001b[0m\n",
      "\u001b[0;31mTypeError\u001b[0m: unhashable type: 'list'"
     ]
    }
   ],
   "source": [
    "if __name__ == \"__main__\":\n",
    "\n",
    "    start = time.time()\n",
    "    num_cores = mp.cpu_count()  # Get the number of CPU cores\n",
    "    local_found_sequences = set()\n",
    "    filenames = glob.glob(\"/scr/parisa_shared/group_*.fasta\")\n",
    "\n",
    "    with mp.Pool(processes=num_cores) as pool:\n",
    "        found_sequence = pool.map(read_seq, filenames)\n",
    "        local_found_sequences.add(found_sequence)\n",
    "#         combined_found_sequences = set().union(*found_sequence)\n",
    "        if len(combined_found_sequences) == 5:\n",
    "            print(\"all initial sequences have been found!\")\n",
    "            pool.terminate()\n",
    "            \n",
    "    end = time.time()\n",
    "    \n",
    "    print(end - start)"
   ]
  },
  {
   "cell_type": "code",
   "execution_count": 4,
   "metadata": {},
   "outputs": [
    {
     "data": {
      "text/plain": [
       "112"
      ]
     },
     "execution_count": 4,
     "metadata": {},
     "output_type": "execute_result"
    }
   ],
   "source": [
    "mp.cpu_count() "
   ]
  },
  {
   "cell_type": "code",
   "execution_count": null,
   "metadata": {},
   "outputs": [],
   "source": []
  }
 ],
 "metadata": {
  "kernelspec": {
   "display_name": "myenv",
   "language": "python",
   "name": "myenv"
  },
  "language_info": {
   "codemirror_mode": {
    "name": "ipython",
    "version": 3
   },
   "file_extension": ".py",
   "mimetype": "text/x-python",
   "name": "python",
   "nbconvert_exporter": "python",
   "pygments_lexer": "ipython3",
   "version": "3.7.11"
  }
 },
 "nbformat": 4,
 "nbformat_minor": 2
}
